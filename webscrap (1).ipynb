{
 "cells": [
  {
   "cell_type": "markdown",
   "id": "b48d9726-294c-44ee-a196-708b666c0c5b",
   "metadata": {},
   "source": [
    "# Web Scrapping on Fake jobs website"
   ]
  },
  {
   "cell_type": "code",
   "execution_count": 1,
   "id": "61dbe406-7c49-44a1-8830-c494f9a861f0",
   "metadata": {
    "scrolled": true
   },
   "outputs": [
    {
     "name": "stdout",
     "output_type": "stream",
     "text": [
      "Title: Senior Python Developer\n",
      "Company: Payne, Roberts and Davis\n",
      "Location: Stewartbury, AA\n",
      "Apply Here: https://www.realpython.com\n",
      "----------------------------------------\n",
      "Title: Energy engineer\n",
      "Company: Vasquez-Davidson\n",
      "Location: Christopherville, AA\n",
      "Apply Here: https://www.realpython.com\n",
      "----------------------------------------\n",
      "Title: Legal executive\n",
      "Company: Jackson, Chambers and Levy\n",
      "Location: Port Ericaburgh, AA\n",
      "Apply Here: https://www.realpython.com\n",
      "----------------------------------------\n"
     ]
    }
   ],
   "source": [
    "import requests\n",
    "from bs4 import BeautifulSoup\n",
    "\n",
    "url = \"https://realpython.github.io/fake-jobs/\"\n",
    "res = requests.get(url)\n",
    "\n",
    "#print(res.status_code)\n",
    "\n",
    "if(res.status_code == 200):\n",
    "    soup = BeautifulSoup(res.text , 'html.parser')\n",
    "\n",
    "    each_job = soup.find_all(\"div\" , class_= \"card-content\")\n",
    "    for job in each_job[0:3]:\n",
    "        title = job.find(\"h2\" , class_ = \"title\").text.strip()\n",
    "        company = job.find(\"h3\", class_=\"subtitle\").text.strip()\n",
    "        location = job.find(\"p\", class_=\"location\").text.strip()\n",
    "        apply_link = job.find(\"a\", class_=\"card-footer-item\")[\"href\"]\n",
    "\n",
    "        print(f\"Title: {title}\")\n",
    "        print(f\"Company: {company}\")\n",
    "        print(f\"Location: {location}\")\n",
    "        print(f\"Apply Here: {apply_link}\")\n",
    "        print(\"-\" * 40)\n",
    "        \n",
    "    "
   ]
  },
  {
   "cell_type": "markdown",
   "id": "d8d1c17d-7959-4999-a4a0-6db8e08f0643",
   "metadata": {},
   "source": [
    "# Webscrapping on Wikipedia of India"
   ]
  },
  {
   "cell_type": "code",
   "execution_count": 19,
   "id": "62745f6e-5aa9-43f7-b16a-f4b5898f7e7b",
   "metadata": {},
   "outputs": [
    {
     "name": "stdout",
     "output_type": "stream",
     "text": [
      "Title of the Wikipedia is India - Wikipedia\n"
     ]
    }
   ],
   "source": [
    "import requests\n",
    "from bs4 import BeautifulSoup\n",
    "\n",
    "url = \"https://en.wikipedia.org/wiki/India\"\n",
    "\n",
    "wiki = requests.get(url)\n",
    "soup = BeautifulSoup(wiki.text , 'html.parser')\n",
    "\n",
    "print(f'Title of the Wikipedia is {soup.find('title').text}')"
   ]
  },
  {
   "cell_type": "code",
   "execution_count": 20,
   "id": "32ecadeb-2ccd-4a9c-8a15-5250005a40b5",
   "metadata": {},
   "outputs": [
    {
     "name": "stdout",
     "output_type": "stream",
     "text": [
      "Some Paragraphs from wikipedia\n",
      "\n",
      "\n",
      "India, officially the Republic of India,[j][20] is a country in South Asia.  It is the seventh-largest country by area; the most populous country from  June 2023 onwards;[21][22] and since its independence in 1947, the world's most populous democracy.[23][24][25] Bounded by the Indian Ocean on the south, the Arabian Sea on the southwest, and the Bay of Bengal on the southeast, it shares land borders with Pakistan to the west;[k] China, Nepal, and Bhutan to the north; and Bangladesh and Myanmar to the east. In the Indian Ocean, India is near Sri Lanka and the Maldives; its Andaman and Nicobar Islands share a maritime border with Thailand, Myanmar, and Indonesia.\n",
      "\n",
      "Modern humans arrived on the Indian subcontinent from Africa no later than 55,000 years ago.[27][28][29] Their long occupation, predominantly in isolation as hunter-gatherers, has made the region highly diverse, second only to Africa in human genetic diversity.[30] Settled life emerged on the subcontinent in the western margins of the Indus river basin 9,000 years ago, evolving gradually into the Indus Valley Civilisation of the third millennium BCE.[31] By 1200 BCE, an archaic form of Sanskrit, an Indo-European language, had diffused into India from the northwest.[32][33] Its hymns recorded the dawning of Hinduism in India.[34] India's pre-existing Dravidian languages were supplanted in the northern regions.[35] By 400 BCE, caste had emerged within Hinduism,[36] and Buddhism and Jainism had arisen, proclaiming social orders unlinked to heredity.[37] Early political consolidations gave rise to the loose-knit Maurya and Gupta Empires.[38] Widespread creativity suffused this era,[39] but the status of women declined,[40] and untouchability became an organized belief.[l][41] In South India, the Middle kingdoms exported Dravidian language scripts and religious cultures to the kingdoms of Southeast Asia.[42]\n",
      "\n"
     ]
    }
   ],
   "source": [
    "\n",
    "contents = soup.find_all('p')\n",
    "print(\"Some Paragraphs from wikipedia\")\n",
    "\n",
    "for i in range(0,3):\n",
    "    print(contents[i].text)"
   ]
  },
  {
   "cell_type": "code",
   "execution_count": 34,
   "id": "f267c15b-eed4-4960-86c0-73cfed2787d2",
   "metadata": {},
   "outputs": [
    {
     "name": "stdout",
     "output_type": "stream",
     "text": [
      "Links in the wikipedia page that contains India in href:\n",
      "\n",
      "/w/index.php?title=Special:CreateAccount&returnto=India\n",
      "/w/index.php?title=Special:UserLogin&returnto=India\n",
      "/w/index.php?title=Special:CreateAccount&returnto=India\n",
      "/w/index.php?title=Special:UserLogin&returnto=India\n"
     ]
    }
   ],
   "source": [
    "anyLinks = soup.find_all('a')\n",
    "print(\"Links in the wikipedia page that contains India in href:\\n\")\n",
    "for each in anyLinks[11:20]:\n",
    "    link = each.get('href')\n",
    "    if(link is None):\n",
    "        continue\n",
    "    if(\"India\" in link):\n",
    "        print(link)"
   ]
  },
  {
   "cell_type": "code",
   "execution_count": null,
   "id": "d24484f8-04c3-4658-9ac9-833c9d93e787",
   "metadata": {},
   "outputs": [],
   "source": []
  }
 ],
 "metadata": {
  "kernelspec": {
   "display_name": "Python 3 (ipykernel)",
   "language": "python",
   "name": "python3"
  },
  "language_info": {
   "codemirror_mode": {
    "name": "ipython",
    "version": 3
   },
   "file_extension": ".py",
   "mimetype": "text/x-python",
   "name": "python",
   "nbconvert_exporter": "python",
   "pygments_lexer": "ipython3",
   "version": "3.12.4"
  }
 },
 "nbformat": 4,
 "nbformat_minor": 5
}
